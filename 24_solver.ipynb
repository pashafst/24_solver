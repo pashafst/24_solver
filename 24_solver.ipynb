{
 "cells": [
  {
   "cell_type": "code",
   "execution_count": 1,
   "metadata": {},
   "outputs": [],
   "source": [
    "import itertools"
   ]
  },
  {
   "cell_type": "code",
   "execution_count": 2,
   "metadata": {},
   "outputs": [],
   "source": [
    "def multiply(a, b):\n",
    "    res = a * b\n",
    "    return res"
   ]
  },
  {
   "cell_type": "code",
   "execution_count": 3,
   "metadata": {},
   "outputs": [],
   "source": [
    "def divide(a, b):\n",
    "    try:\n",
    "        res = a / b\n",
    "        return res\n",
    "    except ZeroDivisionError:\n",
    "        return 0"
   ]
  },
  {
   "cell_type": "code",
   "execution_count": 4,
   "metadata": {},
   "outputs": [],
   "source": [
    "def subtract(a, b):\n",
    "    res = a - b\n",
    "    return res"
   ]
  },
  {
   "cell_type": "code",
   "execution_count": 5,
   "metadata": {},
   "outputs": [],
   "source": [
    "def add(a, b):\n",
    "    res = a + b\n",
    "    return res"
   ]
  },
  {
   "cell_type": "code",
   "execution_count": 6,
   "metadata": {},
   "outputs": [],
   "source": [
    "def count_list(gleichung):\n",
    "    res = 0\n",
    "    ops = {'+': add, '-': subtract, '*': multiply, '/': divide}\n",
    "    op = add\n",
    "    for item in gleichung:\n",
    "        if item in ops:\n",
    "            op = ops[item]\n",
    "        else:\n",
    "            number = float(item)\n",
    "            res = op(res, number)\n",
    "    return res"
   ]
  },
  {
   "cell_type": "code",
   "execution_count": 7,
   "metadata": {},
   "outputs": [],
   "source": [
    "def make_gleichung(numbers, operators):\n",
    "    result = [None] *(len(numbers)+len(operators))\n",
    "    result[::2] = numbers\n",
    "    result[1::2] = operators\n",
    "    return result"
   ]
  },
  {
   "cell_type": "code",
   "execution_count": 8,
   "metadata": {},
   "outputs": [],
   "source": [
    "def solver(numbers, goal=24):\n",
    "    gleichung_list = []\n",
    "    solutions = []\n",
    "    perm = itertools.permutations(numbers)\n",
    "    permlist = [list(y) for y in perm]\n",
    "    oper = list(itertools.product(['+', '-', '*', '/'], repeat=len(numbers)-1))\n",
    "    for gleichung in permlist:\n",
    "        for ops in oper:\n",
    "            temp = [None] * (len(numbers)*2-1)\n",
    "            temp[::2] = list(gleichung)\n",
    "            temp[1::2] = list(ops)\n",
    "            gleichung_list.append(temp)\n",
    "    for gleichung in gleichung_list:\n",
    "        res = count_list(gleichung)\n",
    "        if res == goal:\n",
    "            solutions.append(gleichung_to_string(gleichung))\n",
    "        else:\n",
    "            pass\n",
    "    \n",
    "    if len(solutions) > 0:\n",
    "        print(\"solved.\")\n",
    "        for sol in solutions:\n",
    "            print(sol)\n",
    "    else:\n",
    "        print(\"no solution found.\")"
   ]
  },
  {
   "cell_type": "code",
   "execution_count": 9,
   "metadata": {},
   "outputs": [],
   "source": [
    "def gleichung_to_string(gleichung):\n",
    "    x = ''.join(str(item) for item in gleichung)\n",
    "    return x"
   ]
  },
  {
   "cell_type": "code",
   "execution_count": null,
   "metadata": {},
   "outputs": [],
   "source": [
    "inp = input()\n",
    "numbers = inp.split(\" \")\n",
    "solver(numbers)"
   ]
  },
  {
   "cell_type": "code",
   "execution_count": null,
   "metadata": {},
   "outputs": [],
   "source": []
  },
  {
   "cell_type": "code",
   "execution_count": null,
   "metadata": {},
   "outputs": [],
   "source": []
  }
 ],
 "metadata": {
  "kernelspec": {
   "display_name": "Python 3",
   "language": "python",
   "name": "python3"
  },
  "language_info": {
   "codemirror_mode": {
    "name": "ipython",
    "version": 3
   },
   "file_extension": ".py",
   "mimetype": "text/x-python",
   "name": "python",
   "nbconvert_exporter": "python",
   "pygments_lexer": "ipython3",
   "version": "3.6.9"
  }
 },
 "nbformat": 4,
 "nbformat_minor": 4
}
