{
 "cells": [
  {
   "cell_type": "code",
   "execution_count": 3,
   "metadata": {},
   "outputs": [],
   "source": [
    "import itertools\n",
    "from copy import deepcopy"
   ]
  },
  {
   "cell_type": "code",
   "execution_count": 4,
   "metadata": {},
   "outputs": [],
   "source": [
    "def multiply(a, b):\n",
    "    res = a * b\n",
    "    return res"
   ]
  },
  {
   "cell_type": "code",
   "execution_count": 28,
   "metadata": {},
   "outputs": [],
   "source": [
    "def divide(a, b):\n",
    "    try:\n",
    "        res = a / b\n",
    "        return res\n",
    "    except ZeroDivisionError:\n",
    "        return 0"
   ]
  },
  {
   "cell_type": "code",
   "execution_count": 29,
   "metadata": {},
   "outputs": [],
   "source": [
    "def subtract(a, b):\n",
    "    res = a - b\n",
    "    return res"
   ]
  },
  {
   "cell_type": "code",
   "execution_count": 30,
   "metadata": {},
   "outputs": [],
   "source": [
    "def add(a, b):\n",
    "    res = a + b\n",
    "    return res"
   ]
  },
  {
   "cell_type": "code",
   "execution_count": 41,
   "metadata": {},
   "outputs": [],
   "source": [
    "def solve(*numbers):\n",
    "    # perm = all arrangement of the number\n",
    "    try:\n",
    "        perm = itertools.permutations(*numbers)\n",
    "        permlist = [list(y) for y in perm]\n",
    "    except TypeError:\n",
    "        permlist = [numbers]\n",
    "    # oper = operator list\n",
    "    oper = [add, divide, subtract, multiply]\n",
    "    if len(permlist) == 1 or len(permlist) == 0:\n",
    "        print(permlist)\n",
    "        if permlist[0][0] == 24:\n",
    "            print(\"solved.\")\n",
    "            return\n",
    "        else:\n",
    "            print(\"not solved.\")\n",
    "            return\n",
    "    else:\n",
    "        for f in oper:\n",
    "                temp = deepcopy(permlist)\n",
    "                for i in range(len(temp)):\n",
    "                    res = f(temp[i].pop(0), temp[i].pop(0))\n",
    "                    if len(temp[i]) == 0:\n",
    "                        nums = res\n",
    "                    else:\n",
    "                        nums = (res, ) + tuple(temp[i])\n",
    "                    solve(nums)"
   ]
  },
  {
   "cell_type": "code",
   "execution_count": 42,
   "metadata": {},
   "outputs": [
    {
     "name": "stdout",
     "output_type": "stream",
     "text": [
      "<function add at 0x000001BD84DE1940>\n",
      "<function divide at 0x000001BD84DE10D0>\n",
      "<function subtract at 0x000001BD84DE1040>\n",
      "<function multiply at 0x000001BD84DBEB80>\n",
      "[]\n"
     ]
    }
   ],
   "source": [
    "x = [add, divide, subtract, multiply]\n",
    "hist = []\n",
    "for f in x:\n",
    "    print(f)\n",
    "print(hist)"
   ]
  }
 ],
 "metadata": {
  "kernelspec": {
   "display_name": "Python 3",
   "language": "python",
   "name": "python3"
  },
  "language_info": {
   "codemirror_mode": {
    "name": "ipython",
    "version": 3
   },
   "file_extension": ".py",
   "mimetype": "text/x-python",
   "name": "python",
   "nbconvert_exporter": "python",
   "pygments_lexer": "ipython3",
   "version": "3.8.2"
  }
 },
 "nbformat": 4,
 "nbformat_minor": 4
}
